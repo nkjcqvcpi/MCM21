{
 "cells": [
  {
   "cell_type": "code",
   "execution_count": 1,
   "outputs": [],
   "source": [
    "import pandas as pd\n",
    "WORKSPACE = '/Users/houtonglei/OneDrive - stu.hqu.edu.cn/数学建模/2021美赛/'\n",
    "DATASET_PATH = WORKSPACE + '2021_ICM_ProblemC/txt_data'\n",
    "DATASET_DESCRIPTION = WORKSPACE + '2021_ICM_ProblemC/2021MCM_ProblemC_DataSet.xlsx'\n",
    "dataset_description = pd.read_excel(DATASET_DESCRIPTION)"
   ],
   "metadata": {
    "collapsed": false,
    "pycharm": {
     "name": "#%%\n"
    }
   }
  },
  {
   "cell_type": "code",
   "execution_count": 2,
   "outputs": [],
   "source": [
    "import os\n",
    "sub_folder = ['/pos/','/neg/','/unv/','/unp/']\n",
    "for _, text in dataset_description.iterrows():\n",
    "    if text['Lab Status']=='Positive ID':\n",
    "        with open(DATASET_PATH+'/pos/'+text['GlobalID']+'_Notes.txt','w') as f:    #设置文件对象\n",
    "            f.write(str(text['Notes']))\n",
    "        with open(DATASET_PATH+'/pos/'+text['GlobalID']+'_LabComments.txt','w') as f:    #设置文件对象\n",
    "            f.write(str(text['Lab Comments']))\n",
    "    elif text['Lab Status']=='Negative ID':\n",
    "        with open(DATASET_PATH+'/neg/'+text['GlobalID']+'_Notes.txt','w') as f:    #设置文件对象\n",
    "            f.write(str(text['Notes']))\n",
    "        with open(DATASET_PATH+'/neg/'+text['GlobalID']+'_LabComments.txt','w') as f:    #设置文件对象\n",
    "            f.write(str(text['Lab Comments']))\n",
    "    elif text['Lab Status']=='Unverified':\n",
    "        with open(DATASET_PATH+'/unv/'+text['GlobalID']+'_Notes.txt','w') as f:    #设置文件对象\n",
    "            f.write(str(text['Notes']))\n",
    "        with open(DATASET_PATH+'/unv/'+text['GlobalID']+'_LabComments.txt','w') as f:    #设置文件对象\n",
    "            f.write(str(text['Lab Comments']))\n",
    "    elif text['Lab Status']=='Unprocessed':\n",
    "        with open(DATASET_PATH+'/unp/'+text['GlobalID']+'_Notes.txt','w') as f:    #设置文件对象\n",
    "            f.write(str(text['Notes']))\n",
    "        with open(DATASET_PATH+'/unp/'+text['GlobalID']+'_LabComments.txt','w') as f:    #设置文件对象\n",
    "            f.write(str(text['Lab Comments']))"
   ],
   "metadata": {
    "collapsed": false,
    "pycharm": {
     "name": "#%%\n"
    }
   }
  },
  {
   "cell_type": "code",
   "execution_count": 3,
   "outputs": [],
   "source": [
    "for name in sub_folder:\n",
    "    files = os.listdir(DATASET_PATH+name)  # 获取路径下的子文件(夹)列表\n",
    "    for file in files:\n",
    "        if os.path.getsize(DATASET_PATH+name+file) == 0:  # 文件大小为0\n",
    "            os.remove(DATASET_PATH+name+file)  # 删除这个文件"
   ],
   "metadata": {
    "collapsed": false,
    "pycharm": {
     "name": "#%%\n"
    }
   }
  },
  {
   "cell_type": "code",
   "execution_count": 4,
   "outputs": [
    {
     "name": "stdout",
     "output_type": "stream",
     "text": [
      "n_samples of train_set: 3839\n"
     ]
    }
   ],
   "source": [
    "# 步骤1：载入训练数据\n",
    "from sklearn.datasets import load_files\n",
    "data_folder = '/Users/houtonglei/OneDrive - stu.hqu.edu.cn/数学建模/2021美赛/2021_ICM_ProblemC/txt_dataset/'\n",
    "train_set = load_files(data_folder+'train', shuffle=False)\n",
    "print(\"n_samples of train_set: %d\" % len(train_set.data))"
   ],
   "metadata": {
    "collapsed": false,
    "pycharm": {
     "name": "#%%\n"
    }
   }
  },
  {
   "cell_type": "code",
   "execution_count": 5,
   "outputs": [
    {
     "data": {
      "text/plain": "'\\nfrom sklearn.model_selection import train_test_split\\ndocs_train, docs_val, y_train, y_val = train_test_split(train_set.data, train_set.target, test_size=0.25, random_state=None)\\n'"
     },
     "execution_count": 5,
     "metadata": {},
     "output_type": "execute_result"
    }
   ],
   "source": [
    "\"\"\"\n",
    "from sklearn.model_selection import train_test_split\n",
    "docs_train, docs_val, y_train, y_val = train_test_split(train_set.data, train_set.target, test_size=0.25, random_state=None)\n",
    "\"\"\""
   ],
   "metadata": {
    "collapsed": false,
    "pycharm": {
     "name": "#%%\n"
    }
   }
  },
  {
   "cell_type": "code",
   "execution_count": 6,
   "outputs": [
    {
     "name": "stdout",
     "output_type": "stream",
     "text": [
      "['00', '0038', '00am', '00pm', '07', '08', '09', '0930', '0ave', '10', '100', '109', '11', '11520', '11900', '12', '1211', '123', '1231', '12th', '13048', '14', '1445', '14ft', '15', '150', '15pm', '15th', '16', '17', '173rd', '18', '18322', '184th', '1890', '18th', '195', '19mm', '19th', '1and', '1st', '20', '200', '2013', '2015', '2018', '2019', '2020', '206', '2102', '213', '22', '220', '23', '231', '24', '24oz', '25', '255', '25th', '26', '26th', '27', '27th', '28', '29', '2in', '2inch', '2inches', '2nd', '2pm', '2x4', '2xs', '30', '300th', '30mph', '30pm', '30th', '3209', '32nd', '35', '35mph', '360', '36th', '37', '38', '396815', '39th', '3rd', '40', '408', '415pm', '4204', '4210', '425', '4307', '4387', '45', '4594', '45th', '46', '48', '4th', '4x', '4x4', '50', '501', '509', '5096693002', '53', '531', '55', '5827', '58th', '5in', '5inches', '5pm', '5second', '60', '600', '60s', '630', '65', '660139', '6ft', '6th', '70', '706', '75', '750', '7713', '78', '7am', '80', '8176', '840', '8oz', '90', '91', '929', '95', '9534', '973', '98026', '98031', '98103', '98126', '98136', '98199', '98203', '98342', '98516', '98546', '98588', '98663', '98926', '99', '99115', 'abandoned', 'abdomen', 'abdominal', 'able', 'abnormal', 'abnormally', 'about', 'above', 'abundance', 'ac', 'access', 'accidentally', 'acre', 'across', 'act', 'acted', 'acting', 'active', 'activity', 'actually', 'add', 'added', 'adding', 'additional', 'address', 'adirondack', 'adjacent', 'adult', 'advance', 'advice', 'advise', 'afew', 'afr', 'afraid', 'aft', 'after', 'afternoon', 'again', 'against', 'agent', 'aggressive', 'aggressively', 'agh', 'agitated', 'ago', 'agressive', 'agriculture', 'air', 'airport', 'aisian', 'alarming', 'ale', 'alert', 'alerted', 'alive', 'alki', 'all', 'allergic', 'alley', 'allium', 'allum', 'almira', 'almost', 'alnifolia', 'aloha', 'alone', 'along', 'already', 'also', 'although', 'alum', 'always', 'am', 'amazing', 'american', 'americana', 'amidst', 'among', 'amongst', 'amount', 'ample', 'amputated', 'an', 'anacortes', 'and', 'anderson', 'angeles', 'angle', 'angles', 'angry', 'animal', 'animals', 'anothe', 'another', 'antenna', 'antennae', 'antennas', 'antlers', 'ants', 'any', 'anymore', 'anyone', 'anything', 'anyway', 'anyways', 'anywhere', 'apart', 'apartment', 'apartments', 'aphid', 'apologies', 'apologize', 'apology', 'app', 'apparent', 'appear', 'appearance', 'appeared', 'appearing', 'appears', 'apple', 'approach', 'approached', 'approaching', 'approx', 'approximate', 'approximately', 'appx', 'apt', 'apx', 'aquatic', 'ar', 'arborvitae', 'are', 'area', 'areas', 'aren', 'arlington', 'arlo', 'arm', 'armchair', 'aroun', 'around', 'arrival', 'arrived', 'arterial', 'article', 'as', 'asain', 'asap', 'ashford', 'asian', 'asiankiller', 'ask', 'asked', 'asking', 'aslo', 'asp', 'ass', 'assaulting', 'assist', 'assume', 'assuming', 'assumption', 'asters', 'at', 'ate', 'atleast', 'atropilosa', 'attach', 'attached', 'attaching', 'attachment', 'attack', 'attacked', 'attacking', 'attempt', 'attempted', 'attempting', 'attempts', 'attenaes', 'attention', 'attitude', 'attracted', 'attracts', 'auburn', 'audible', 'aug', 'august', 'available', 'ave', 'average', 'aw', 'aware', 'away', 'awesome', 'awhile', 'b4', 'baby', 'bachi', 'back', 'backdrop', 'backed', 'backend', 'background', 'backing', 'backs', 'backyard', 'bad', 'bag', 'bagged', 'baggie', 'bags', 'bainbridge', 'baked', 'baker', 'balcony', 'bald', 'baled', 'ball', 'ballard', 'band', 'banging', 'bank', 'bar', 'barbara', 'barely', 'bark', 'barley', 'barn', 'barred', 'base', 'based', 'basil', 'basket', 'basketball', 'baskin', 'bastard', 'bat', 'bathroom', 'bats', 'battling', 'bay', 'bayview', 'bb', 'bbq', 'bc', 'be', 'be1', 'beach', 'beachgoer', 'beachview', 'beans', 'beaut', 'beautiful', 'beauty', 'beaver', 'because', 'becoming', 'bed', 'bedroom', 'beds', 'bee', 'beefy', 'beekeeper', 'been', 'beeologist', 'bees', 'beetle', 'beetles', 'before', 'began', 'behavior', 'beheaded', 'behind', 'being', 'belco', 'belfair', 'believe', 'believed', 'believes', 'bell', 'bellevue', 'bellingham', 'belly', 'belo', 'belong', 'belongs', 'below', 'belt', 'bench', 'bend', 'bender', 'beneath', 'beneficial', 'berms', 'berries', 'beside', 'best', 'bet', 'better', 'between', 'bgimage', 'bi', 'big', 'bigest', 'bigger', 'biggest', 'bike', 'billy', 'birch', 'bird', 'bit', 'bite', 'biting', 'bizarre', 'black', 'blackberries', 'blackberry', 'blackish', 'blade', 'blades', 'blaine', 'blake', 'blanket', 'bleached', 'blead', 'blindly', 'blinds', 'blink', 'block', 'blog', 'blooming', 'blooms', 'blossom', 'blossoms', 'blown', 'blue', 'blurry', 'blvd', 'board', 'boardman', 'boardwalk', 'boat', 'bodied', 'body', 'bold', 'bolt', 'bombed', 'bombus', 'bon', 'boreal', 'borer', 'boring', 'borrowing', 'borton', 'both', 'bothell', 'bothered', 'bottle', 'bottom', 'bounced', 'bow', 'bowl', 'box', 'boxes', 'boyfriend', 'brambles', 'branch', 'branches', 'brando', 'breakfast', 'breed', 'breezy', 'bremerton', 'brick', 'bricks', 'bridge', 'bright', 'bring', 'broad', 'broken', 'broom', 'brother', 'brought', 'brown', 'brownish', 'brush', 'brushed', 'brushing', 'bucket', 'buckley', 'buddy', 'buds', 'bug', 'bugger', 'bugguide', 'bugs', 'build', 'building', 'bumble', 'bumblebee', 'bumblebees', 'bumblee', 'bumper', 'bunch', 'burbank', 'buried', 'burien', 'burrow', 'burrowed', 'burrowing', 'burrows', 'bus', 'bush', 'bushes', 'business', 'bussing', 'busy', 'but', 'butt', 'butte', 'butterfly', 'button', 'buzz', 'buzzed', 'buzzing', 'by', 'ca', 'cab', 'cabin', 'california', 'californicus', 'call', 'called', 'callinicus', 'cam', 'camano', 'came', 'camera', 'cameras', 'camp', 'camped', 'camper', 'campers', 'campground', 'camping', 'campsite', 'campus', 'can', 'canadian', 'canal', 'candle', 'cane', 'canera', 'cannot', 'cant', 'canyon', 'captivity', 'capture', 'captured', 'capturing', 'car', 'carapace', 'carb', 'carcass', 'carcus', 'care', 'careful', 'carnivores', 'carpenter', 'carried', 'carrion', 'carrot', 'carrying', 'carton', 'cascade', 'cascadia', 'case', 'castle', 'cat', 'catch', 'categories', 'cats', 'caught', 'cause', 'caused', 'caution', 'cavities', 'cbs', 'cedar', 'cedars', 'ceiling', 'cell', 'cellphone', 'cement', 'center', 'central', 'centralia', 'cerambycid', 'cerambycidae', 'certain', 'certainly', 'chair', 'chairs', 'chambers', 'chance', 'chances', 'changing', 'chapel', 'characteristic', 'characteristics', 'charles', 'charred', 'charts', 'chase', 'chased', 'chasing', 'check', 'checked', 'checking', 'chelan', 'cherry', 'chest', 'chew', 'chewed', 'chewelah', 'chewing', 'chickens', 'child', 'children', 'chilliwack', 'chinook', 'chives', 'chlorine', 'chopping', 'chubby', 'chuckanuts', 'cicada', 'cicadas', 'cimbes', 'cimbex', 'circle', 'circling', 'circumference', 'cities', 'citizen', 'city', 'cl', 'claimed', 'clarkston', 'clathrate', 'clean', 'cleaner', 'cleaning', 'clear', 'clearer', 'clearing', 'clearly', 'clearwing', 'clicking', 'clients', 'cliff', 'cliffs', 'climb', 'climbing', 'clinging', 'clinton', 'clip', 'close', 'closely', 'closer', 'closeup', 'clothes', 'clothing', 'clovers', 'club', 'clubbed', 'clue', 'cluster', 'clyde', 'cm', 'co', 'coast', 'cocoon', 'cocoons', 'code', 'coin', 'coincidentally', 'cold', 'collar', 'collect', 'collected', 'college', 'colony', 'color', 'coloration', 'colored', 'coloring', 'colors', 'colour', 'colton', 'columbia', 'columns', 'comb', 'comber', 'come', 'comes', 'coming', 'common', 'commonly', 'community', 'compare', 'compared', 'comparison', 'completely', 'complex', 'complexin', 'concern', 'concerned', 'concerning', 'concrete', 'conditions', 'condo', 'condos', 'confidence', 'configuration', 'confirm', 'confirmation', 'confirmed', 'confirming', 'confirms', 'connected', 'connell', 'considered', 'console', 'constantly', 'construction', 'contact', 'contacting', 'contained', 'container', 'containers', 'contour', 'contractor', 'convallis', 'convinced', 'cool', 'cooler', 'coolest', 'corner', 'corpse', 'correct', 'couch', 'cougar', 'could', 'couldn', 'couldnt', 'coulee', 'count', 'country', 'county', 'couple', 'course', 'court', 'cousin', 'cove', 'cover', 'covered', 'coverings', 'covers', 'cowling', 'coworker', 'cracks', 'crane', 'crap', 'crappy', 'crawl', 'crawled', 'crawling', 'crazy', 'cream', 'created', 'creature', 'creek', 'crescent', 'crew', 'cricket', 'crickets', 'critter', 'cropped', 'cross', 'crossed', 'crossing', 'crown', 'crunches', 'crushed', 'cup', 'curb', 'curious', 'curled', 'currently', 'curse', 'custer', 'customer', 'cut', 'cute', 'cutie', 'cutting', 'cycle', 'cypress', 'dabber', 'dad', 'dads', 'dahlia', 'dahlias', 'daily', 'dam', 'damaged', 'dammage', 'damn', 'damselfly', 'dangerous', 'dare', 'dark', 'darkened', 'darker', 'dash', 'date', 'dates', 'dauber', 'daughter', 'daughters', 'day', 'days', 'de', 'dead', 'deadly', 'dealt', 'deathly', 'debris', 'decapitated', 'decayed', 'deceased', 'decent', 'deception', 'decided', 'deck', 'decomposing', 'decorative', 'decreased', 'deep', 'defensive', 'definite', 'definitely', 'degrees', 'dehydrated', 'delayed', 'den', 'denny', 'dense', 'department', 'depot', 'depressing', 'describe', 'described', 'description', 'descriptions', 'desired', 'despite', 'destroyed', 'detached', 'detailed', 'details', 'detector', 'determine', 'determined', 'develop', 'di', 'diameter', 'diamond', 'did', 'didn', 'die', 'died', 'dielis', 'diff', 'difference', 'different', 'difficult', 'dig', 'digge', 'digger', 'digging', 'digs', 'dining', 'dinner', 'dipping', 'direct', 'dirt', 'dirty', 'disagreement', 'disappear', 'disappeared', 'discolored', 'discovered', 'discovery', 'discuss', 'dish', 'dismembered', 'distance', 'distances', 'distinct', 'distinctive', 'distinctly', 'distinguishing', 'distressed', 'district', 'disturbed', 'disturbing', 'disturbingly', 'dive', 'dizzy', 'do', 'doa', 'docking', 'doctor', 'does', 'doesn', 'doesnt', 'dog', 'dogfish', 'doggie', 'dogs', 'doing', 'dolichovespula', 'dollar', 'dolphin', 'dominula', 'don', 'donnie', 'donot', 'dont', 'doon', 'door', 'doorbell', 'doorway', 'dormant', 'dosent', 'dot', 'dots', 'doubt', 'doug', 'douglas', 'down', 'downed', 'download', 'downstairs', 'downtown', 'dozen', 'dr', 'dragged', 'dragon', 'dragonfly', 'dried', 'drift', 'drinking', 'drive', 'driver', 'driveway', 'driving', 'dropped', 'drove', 'drown', 'drowned', 'drowning', 'dry', 'dryer', 'duct', 'due', 'dug', 'dumpster', 'dumpsters', 'dupont', 'during', 'dust', 'duvall', 'dweller', 'dwellers', 'dwelling', 'dying', 'each', 'eachother', 'eagle', 'earlier', 'early', 'easier', 'easily', 'east', 'eastern', 'eastsound', 'easy', 'eat', 'eaten', 'eater', 'eating', 'eaves', 'ebeys', 'ecosystem', 'ecosystems', 'ect', 'edge', 'edited', 'edmonds', 'effective', 'eggs', 'either', 'elder', 'elementary', 'ellensburg', 'elliott', 'elm', 'elmsaw', 'else', 'elytra', 'emaciated', 'email', 'emerging', 'emit', 'employee', 'empty', 'ems', 'enclosed', 'end', 'ended', 'engine', 'england', 'enjoy', 'enormous', 'enough', 'enter', 'entered', 'entering', 'entire', 'entirely', 'entrance', 'enumclaw', 'environmental', 'ephrata', 'equipment', 'eradicate', 'error', 'escape', 'established', 'estimate', 'estimated', 'estimating', 'european', 'eve', 'even', 'evening', 'event', 'ever', 'everett', 'evergreen', 'everson', 'every', 'everyday', 'everything', 'exact', 'exactly', 'examination', 'examine', 'example', 'excavate', 'excep', 'except', 'exceptionally', 'excuse', 'exit', 'exiting', 'exoskeletons', 'exotic', 'expert', 'experts', 'explanation', 'extended', 'extends', 'extension', 'external', 'extremely', 'eye', 'eyed', 'eyes', 'face', 'facebook', 'faced', 'faces', 'facility', 'fact', 'faded', 'fairhaven', 'fairly', 'fairwood', 'fake', 'fall', 'fallen', 'falling', 'falls', 'familiar', 'family', 'fangs', 'far', 'farm', 'farther', 'fast', 'fat', 'fb', 'fear', 'feasting', 'feature', 'feb', 'fed', 'feebly', 'feed', 'feedback', 'feeder', 'feeding', 'feel', 'feet', 'fell', 'felt', 'fem', 'femaile', 'female', 'females', 'fence', 'fencing', 'fennel', 'ferndale', 'ferry', 'few', 'fiance', 'fide', 'field', 'fields', 'fighting', 'figs', 'figure', 'figured', 'files', 'filled', 'filter', 'filtering', 'finally', 'find', 'finger', 'fingerb', 'fingers', 'finn', 'fir', 'fire', 'fireplace', 'firewood', 'first', 'fishing', 'fit', 'five', 'fl', 'flew', 'flies', 'flight', 'flint', 'flip', 'float', 'floating', 'floaty', 'floor', 'floorboard', 'flop', 'flopping', 'florence', 'floundering', 'flower', 'flowered', 'flowering', 'flowers', 'fluffy', 'fluttering', 'fly', 'flying', 'flys', 'flyswatter', 'focus', 'folded', 'follow', 'followed', 'following', 'food', 'foot', 'football', 'for', 'foraging', 'force', 'ford', 'forest', 'forested', 'forewings', 'forgot', 'forgotten', 'forground', 'forit', 'fork', 'forklift', 'forks', 'form', 'forward', 'foud', 'fought', 'found', 'four', 'fr', 'francis', 'frank', 'franz', 'fraser', 'freaked', 'fred', 'free', 'freeland', 'freeze', 'freezer', 'frequented', 'frequenting', 'fresh', 'freshly', 'friday', 'friend', 'friendly', 'friends', 'frightened', 'frisbee', 'fro', 'from', 'front', 'froze', 'frozen', 'fruit', 'fruithill', 'ft', 'fuchsia', 'fuel', 'full', 'fully', 'fur', 'furniture', 'further', 'fuzzy', 'garage', 'garaged', 'garbage', 'garden', 'gardened', 'gardener', 'gardening', 'gardens', 'garfield', 'garlic', 'gas', 'gasteruptiidae', 'gate', 'gatorade', 'gave', 'gay', 'gemanica', 'generally', 'gennessee', 'genus', 'george', 'germanica', 'get', 'getting', 'giant', 'gifford', 'gig', 'gigantic', 'gigas', 'girls', 'give', 'given', 'glanced', 'glass', 'gleed', 'glengary', 'glimpses', 'glorious', 'gloved', 'go', 'going', 'golden', 'golf', 'golfers', 'gone', 'good', 'google', 'googled', 'goose', 'gorgeous', 'got', 'gotta', 'government', 'gps', 'grab', 'grabbed', 'grabbing', 'grainy', 'grand', 'grandis', 'grandkids', 'grandson', 'grant', 'granulated', 'grapeview', 'grasp', 'grass', 'grasses', 'grasshopper', 'grassy', 'gravel', 'gray', 'great', 'greater', 'green', 'greenhouse', 'grew', 'grig', 'grill', 'grille', 'grocery', 'ground', 'group', 'growing', 'grown', 'growth', 'guard', 'guess', 'guessing', 'guides', 'gun', 'guts', 'gutter', 'gutters', 'guy', 'guys', 'ha', 'had', 'hadn', 'haggens', 'hair', 'hairless', 'hairs', 'hairspray', 'hairy', 'half', 'halfs', 'halfway', 'hall', 'halloween', 'halteres', 'hammer', 'hand', 'hands', 'handyman', 'hang', 'hangar', 'hanging', 'hangout', 'hanks', 'happen', 'happened', 'harbor', 'hard', 'hardly', 'harmelss', 'harmless', 'harvesting', 'has', 'hat', 'hatched', 'hatchlings', 'hate', 'have', 'haven', 'havent', 'having', 'hawk', 'hay', 'he', 'head', 'headed', 'heading', 'headless', 'headlight', 'headquarters', 'heads', 'headshot', 'health', 'healthy', 'hear', 'heard', 'heck', 'hel', 'held', 'hell', 'hello', 'help', 'helpers', 'helpful', 'helping', 'helps', 'hemlock', 'hence', 'her', 'herb', 'herbivore', 'here', 'heritage', 'hernet', 'hesitant', 'hey', 'hibox', 'hidden', 'hige', 'high', 'highly', 'hike', 'hikes', 'hiking', 'hill', 'hills', 'hillside', 'him', 'his', 'hissing', 'hit', 'hitting', 'hive', 'hives', 'hmm', 'hoa', 'hold', 'holding', 'hole', 'holes', 'hollowed', 'holly', 'home', 'homemade', 'homes', 'honestly', 'honey', 'honeybee', 'honeybees', 'honeycombs', 'honeydew', 'honeys', 'hood', 'hook', 'hoop', 'hope', 'hopefully', 'hopping', 'hops', 'horn', 'hornatil', 'horneet', 'horner', 'hornet', 'hornetos9', 'hornets', 'horntail', 'horse', 'horses', 'hose', 'hot', 'hotspot', 'hour', 'hours', 'house', 'houses', 'hovander', 'hover', 'hovered', 'hovering', 'hoving', 'how', 'howeve', 'however', 'hubby', 'huge', 'human', 'humans', 'humid', 'hummingbird', 'hung', 'hunt', 'hunting', 'hurricane', 'hurt', 'husband', 'husbands', 'husk', 'husks', 'hutch', 'hwy', 'hydrangea', 'hydrangeas', 'hydro', 'hymenoptera', 'hysband', 'i5', 'ice', 'ichneumon', 'ichneumoneus', 'ichneumonid', 'ichneumonidae', 'ichneunoneus', 'id', 'idea', 'identification', 'identified', 'identifier', 'identifies', 'identify', 'identity', 'if', 'ignored', 'ihave', 'im', 'image', 'images', 'imediately', 'immature', 'immediate', 'immediately', 'important', 'impossible', 'impressive', 'in', 'inc', 'inch', 'inches', 'include', 'included', 'including', 'incredibly', 'indeed', 'indentification', 'index', 'indian', 'indianola', 'indicates', 'indicating', 'infant', 'inflight', 'info', 'information', 'inhabit', 'initial', 'initially', 'injured', 'injury', 'inland', 'inlet', 'inordinately', 'insec', 'insect', 'insects', 'inside', 'insides', 'inspection', 'instead', 'instinctively', 'instructed', 'insulation', 'insure', 'intact', 'intend', 'intentions', 'interest', 'interested', 'interesting', 'interior', 'internet', 'intersecting', 'intersection', 'intl', 'into', 'invasive', 'investigated', 'investigating', 'investigation', 'iphone', 'irondale', 'is', 'ish', 'island', 'isn', 'isnt', 'isodontia', 'issaquah', 'issue', 'it', 'item', 'its', 'itself', 'ive', 'ivy', 'jab', 'jackeet', 'jacket', 'jackets', 'jackson', 'jam', 'january', 'japanese', 'jar', 'jaws', 'jellow', 'jerusalem', 'job', 'joe', 'john', 'johns', 'joined', 'joking', 'jr', 'juan', 'judge', 'july', 'june', 'junebug', 'just', 'justice', 'juvenile', 'katydid', 'kayak', 'keep', 'keeper', 'keeping', 'kennewick', 'kent', 'kept', 'key', 'kick', 'kid', 'kidder', 'kiddie', 'kids', 'kill', 'killed', 'killer', 'killers', 'killing', 'kind', 'kinda', 'kinds', 'king', 'kingston', 'kirkland', 'kitchen', 'kitsap', 'kitty', 'klahanie', 'klickitat', 'knew', 'knock', 'knocked', 'knocking', 'knoll', 'knotweed', 'know', 'known', 'knuckle', 'la', 'lacey', 'lack', 'lacks', 'ladder', 'lady', 'lake', 'lakes', 'lakeside', 'land', 'landed', 'landing', 'landscaped', 'lane', 'langley', 'lap', 'laphria', 'large', 'largely', 'larger', 'largest', 'larva', 'larvae', 'last', 'lat', 'late', 'later', 'laugh', 'launch', 'laurel', 'lavender', 'law', 'lawn', 'laws', 'lawson', 'lawton', 'lay', 'layed', 'laying', 'lays', 'lazy', 'le', 'lead', 'leaf', 'leaned', 'learn', 'least', 'leave', 'leavenworth', 'leaves', 'lebam', 'ledge', 'leeks', 'left', 'leg', 'legal', 'legitimate', 'legs', 'length', 'lepturinae', 'less', 'let', 'lethargic', 'letting', 'lettuce', 'lewis', 'liberty', 'lid', 'lidded', 'life', 'lifeless', 'lifting', 'light', 'lightbulb', 'lighter', 'like', 'likely', 'likes', 'lilliwaup', 'limb', 'limelight', 'line', 'lined', 'lines', 'link', 'lion', 'liquid', 'lit', 'literally', 'little', 'live', 'lived', 'lives', 'living', 'll', 'ln', 'loaded', 'loc', 'local', 'located', 'location', 'locations', 'lock', 'locks', 'lodged', 'log', 'lol', 'lon', 'long', 'longer', 'longhorn', 'longtime', 'lonhorned', 'look', 'looked', 'looking', 'looks', 'loon', 'loop', 'looping', 'loose', 'lopez', 'lost', 'lot', 'lots', 'loud', 'loughrey', 'lova', 'love', 'loves', 'loving', 'low', 'lower', 'luckily', 'lucky', 'lush', 'lying', 'lynden', 'lynnwood', 'lynwood', 'maculata', 'mad', 'made', 'magnification', 'magnificent', 'magnolia', 'magnuson', 'mail', 'mailbox', 'main', 'maintenace', 'maintenance', 'majority', 'make', 'makes', 'making', 'male', 'man', 'managed', 'mandibles', 'manged', 'mangled', 'manson', 'mantis', 'many', 'map', 'maple', 'maps', 'march', 'margaret', 'marijuana', 'marine', 'mariuana', 'marked', 'market', 'marking', 'markings', 'marlon', 'marrysville', 'marysville', 'mason', 'massive', 'mat', 'match', 'matched', 'matches', 'material', 'materials', 'mating', 'mature', 'matured', 'maxima', 'maximum', 'may', 'maybe', 'mayfly', 'mcchord', 'mcdonald', 'mcgraw', 'mcmurry', 'me', 'mean', 'meaning', 'meant', 'measur', 'measure', 'measured', 'measurement', 'measures', 'meets', 'melody', 'member', 'menacing', 'mentioned', 'mercer', 'meridian', 'message', 'messing', 'metal', 'meyer', 'meyers', 'mid', 'middle', 'midvale', 'might', 'mile', 'miles', 'milkman', 'mill', 'millbay', 'miller', 'millimetres', 'milton', 'mimic', 'mimicking', 'mimics', 'min', 'mine', 'miner', 'mini', 'minimum', 'mint', 'minute', 'minutes', 'mirror', 'mirrormont', 'missing', 'mistaken', 'molted', 'mom', 'moment', 'monday', 'monroe', 'monster', 'month', 'months', 'moran', 'more', 'morning', 'moroccan', 'mortis', 'moses', 'most', 'mostly', 'moth', 'mother', 'moths', 'motion', 'motor', 'mottled', 'mounds', 'mount', 'mountain', 'mounted', 'mountlake', 'mouth', 'move', 'moved', 'movement', 'moves', 'moving', 'mowed', 'mowing', 'moxee', 'mp4', 'mph', 'mt', 'much', 'mud', 'mukilteo', 'mulched', 'multiple', 'munch', 'murder', 'museum', 'must', 'mutipless', 'my', 'myhouse', 'myself', 'naches', 'nail', 'nak', 'name', 'nanaimo', 'nasty', 'natch', 'national', 'native', 'nd', 'ne', 'near', 'nearby', 'nearer', 'nearest', 'nearly', 'neat', 'necessarily', 'necessary', 'neck', 'nectar', 'nectot', 'need', 'needed', 'needs', 'negative', 'neighbor', 'neighborhood', 'neighbors', 'neither', 'nest', 'nested', 'nesters', 'nests', 'net', 'never', 'new', 'newcastle', 'newhalem', 'newly', 'news', 'next', 'nice', 'nicrophorus', 'niece', 'night', 'nights', 'nisqually', 'no', 'nobodys', 'noise', 'noises', 'nominally', 'non', 'none', 'noodle', 'nooksack', 'noon', 'nooo', 'nope', 'nor', 'nordic', 'normal', 'north', 'northbound', 'northeast', 'northern', 'nose', 'not', 'note', 'noted', 'nothing', 'notice', 'noticeable', 'noticed', 'notification', 'november', 'now', 'nowhere', 'numbers', 'numerous', 'nursery', 'nursing', 'nw', 'oak', 'observe', 'observed', 'obstruction', 'obtain', 'obtained', 'obverved', 'obvious', 'obviously', 'occasions', 'occur', 'ocean', 'oct', 'october', 'odd', 'odessa', 'odlin', 'odonata', 'of', 'off', 'office', 'official', 'often', 'oh', 'ohh', 'ok', 'okanogan', 'okay', 'old', 'ole', 'olympia', 'on', 'once', 'one', 'ones', 'onion', 'online', 'only', 'onto', 'open', 'opened', 'opening', 'opinion', 'or', 'orang', 'orange', 'oranger', 'orangey', 'orangish', 'orcas', 'orchard', 'ordinary', 'oregano', 'oregon', 'original', 'ospriocerus', 'other', 'others', 'otherwise', 'othet', 'othewise', 'oudoor', 'our', 'ours', 'out', 'outdoor', 'outer', 'outside', 'over', 'overall', 'overgr', 'overnight', 'oversized', 'oviopositor', 'ovipositor', 'ovipositors', 'own', 'pacific', 'pacifica', 'package', 'packing', 'packwood', 'pad', 'page', 'pages', 'painful', 'painter', 'pair', 'palm', 'paned', 'panic', 'panicked', 'paper', 'parallel', 'parameters', 'parasite', 'parasitoid', 'parents', 'park', 'parked', 'parking', 'parkland', 'parsley', 'part', 'partial', 'partially', 'particular', 'particularly', 'partly', 'parts', 'pasco', 'pass', 'passed', 'passion', 'past', 'pasts', 'pasture', 'patch', 'patches', 'path', 'paths', 'pathway', 'patio', 'pattern', 'paved', 'pavement', 'paying', 'peak', 'pear', 'pedestrian', 'peeking', 'pen', 'pencil', 'peninsula', 'pennesitia', 'pennisetia', 'pensylvanica', 'people', 'peppermint', 'per', 'percival', 'perhaps', 'period', 'persistent', 'person', 'personal', 'pest', 'pests', 'pesty', 'petals', 'pets', 'ph', 'phantom', 'pheromone', 'phone', 'photo', 'photograph', 'photographed', 'photographs', 'photos', 'physically', 'pic', 'pick', 'picked', 'picking', 'pickle', 'pics', 'picsd', 'picts', 'pictur', 'picture', 'pictured', 'pictures', 'picutred', 'piece', 'pieces', 'pierce', 'pigeon', 'pike', 'pile', 'pill', 'pin', 'pincers', 'pinch', 'pinched', 'pinchot', 'pine', 'pinecone', 'pinky', 'pinpoint', 'pipeline', 'pipline', 'pitched', 'pixelated', 'pkwy', 'place', 'placed', 'placing', 'plant', 'planter', 'plantings', 'plants', 'plasitc', 'plasti', 'plastic', 'plateau', 'play', 'playground', 'playing', 'please', 'plenty', 'pliers', 'plum', 'plump', 'plus', 'pm', 'pnw', 'pockets', 'point', 'pointed', 'pointy', 'polistes', 'polistinae', 'pollen', 'pollin', 'pollinate', 'pollinating', 'pollinator', 'pollinators', 'pompilidae', 'pond', 'ponderosa', 'pool', 'pools', 'poor', 'popped', 'populated', 'population', 'populations', 'porch', 'port', 'posession', 'position', 'positive', 'possession', 'possesssion', 'possib', 'possible', 'possibly', 'post', 'postal', 'posted', 'posting', 'pot', 'potential', 'potentially', 'poto', 'pots', 'potted', 'poulsbo', 'pr', 'prairie', 'predaceous', 'predator', 'predators', 'predatory', 'predominantly', 'prepa', 'presence', 'present', 'preserve', 'preserved', 'pressure', 'pretty', 'prevent', 'previously', 'prey', 'preying', 'prior', 'prison', 'private', 'prob', 'probably', 'process', 'products', 'project', 'prominent', 'pronounced', 'properties', 'property', 'prosser', 'protuberance', 'provided', 'provincial', 'public', 'puddle', 'pull', 'pulled', 'pulling', 'pullman', 'pumping', 'puncture', 'purchased', 'purposes', 'pushed', 'put', 'putchased', 'putter', 'puyallup', 'qualified', 'qualifies', 'quality', 'quarter', 'queen', 'queens', 'questions', 'quick', 'quickly', 'quincy', 'quite', 'rabbits', 'racket', 'radiator', 'raid', 'raiding', 'railing', 'railroad', 'rain', 'rainier', 'raise', 'raised', 'ramp', 'ran', 'ranch', 'random', 'ranging', 'rare', 'raspberry', 'rather', 'rd', 're', 'rea', 'reach', 'read', 'reading', 'ready', 'realize', 'realized', 'really', 'rear', 'reasons', 'recall', 'recent', 'recently', 'record', 'recorded', 'recreation', 'rectangle', 'red', 'reddish', 'redmond', 'reference', 'referring', 'reflecting', 'refrigerator', 'refuge', 'regained', 'regional', 'regular', 'rehabbing', 'related', 'relatives', 'release', 'released', 'remainder', 'remarking', 'remember', 'reminded', 'remnant', 'remodeling', 'removal', 'removals', 'removed', 'renton', 'repairing', 'repeated', 'repeatedly', 'replacing', 'reply', 'report', 'reported', 'reporting', 'reports', 'requested', 'research', 'resemble', 'resembled', 'reservation', 'residence', 'resident', 'residential', 'residing', 'resort', 'resources', 'response', 'rest', 'resting', 'resubmit', 'retaining', 'retrieve', 'retrospect', 'return', 'returned', 'returning', 'revealing', 'review', 'reviewing', 'rhodie', 'rhododendron', 'rhody', 'rhubarb', 'richland', 'ride', 'ridge', 'ridgefield', 'right', 'rigor', 'ring', 'rings', 'risk', 'river', 'road', 'robber', 'robinswood', 'rock', 'rocks', 'rodendendron', 'rolled', 'rolling', 'roof', 'roofline', 'rooftop', 'room', 'roosevelt', 'root', 'rose', 'roslyn', 'rough', 'roughly', 'round', 'routinely', 'rove', 'row', 'roy', 'royal', 'rump', 'run', 'running', 'runs', 'rural', 'rv', 'rving', 'sad', 'sadly', 'safe', 'safely', 'said', 'sailboat', 'saliva', 'salsa', 'saltys', 'same', 'sammamish', 'sample', 'sampling', 'san', 'sand', 'sandwich', 'sandy', 'sat', 'saucer', 'save', 'saved', 'saw', 'sawdust', 'sawflies', 'sawfly', 'say', 'saying', 'says', 'scale', 'scarab', 'scared', 'scary', 'scatter', 'scheme', 'school', 'science', 'scientist', 'scoliid', 'scoliidae', 'screen', 'screenshot', 'screw', 'scrub', 'se', 'sea', 'seabeck', 'seacrest', 'sealed', 'searching', 'season', 'seat', 'seatac', 'seated', 'seattle', 'second', 'seconds', 'section', 'secure', 'security', 'see', 'seeds', 'seeing', 'seeking', 'seem', 'seemed', 'seems', 'seen', 'segment', 'segments', 'selah', 'semi', 'semiahmoo', 'send', 'sending', 'sent', 'sep', 'separate', 'sept', 'september', 'sequim', 'serious', 'service', 'seseiid', 'sesiid', 'set', 'setaceous', 'sets', 'setting', 'settled', 'several', 'severed', 'sewer', 'sexton', 'shade', 'shall', 'shape', 'shaped', 'share', 'she', 'shed', 'shell', 'shelton', 'shine', 'shirt', 'shocked', 'shoe', 'shoot', 'shop', 'shore', 'shoreline', 'shores', 'short', 'shortly', 'shot', 'should', 'shoulder', 'shouldn', 'shovel', 'show', 'showed', 'showing', 'shown', 'shows', 'shy', 'sick', 'side', 'sidewalk', 'sight', 'sighted', 'sighting', 'sightings', 'sign', 'significantly', 'signs', 'silent', 'sill', 'silly', 'similar', 'similarities', 'similarly', 'simple', 'since', 'sinclair', 'single', 'sirex', 'siricid', 'sister', 'sisters', 'site', 'sited', 'sites', 'siting', 'sitting', 'situation', 'size', 'sized', 'sizes', 'sizing', 'skagit', 'sketchy', 'skimmer', 'skin', 'skinny', 'skylight', 'slab', 'slapped', 'sledge', 'sleek', 'slender', 'sliding', 'slightly', 'slim', 'slow', 'slower', 'slowly', 'sluggish', 'sluggishly', 'sm', 'smacked', 'small', 'smaller', 'smashed', 'smashing', 'smithsonian', 'smoke', 'smooshed', 'smushed', 'snap', 'snapped', 'snohomish', 'snoqualmie', 'snow', 'so', 'soaking', 'soap', 'soccer', 'sofa', 'soft', 'soil', 'solid', 'solitary', 'solo', 'some', 'someone', 'something', 'sometime', 'somewhere', 'son', 'sons', 'soon', 'sooner', 'sorry', 'sort', 'sorts', 'sound', 'sounding', 'sounds', 'south', 'sp', 'space', 'spangle', 'spearmint', 'specie', 'species', 'specimen', 'specimens', 'spectacular', 'speed', 'spent', 'sphecid', 'sphecius', 'sphex', 'spider', 'spiders', 'spiderweb', 'spilichneumon', 'spirea', 'spit', 'split', 'spokane', 'spores', 'sport', 'spot', 'spots', 'spotted', 'spotting', 'sprawled', 'spray', 'sprayed', 'spring', 'springdale', 'sprinkler', 'squish', 'squished', 'sr', 'sr14', 'sr27', 'st', 'stack', 'staff', 'stages', 'staining', 'stairs', 'stalls', 'standing', 'stands', 'stanwood', 'staphylinidae', 'staring', 'start', 'started', 'starter', 'startled', 'state', 'station', 'stay', 'stayed', 'steel', 'stem', 'stenopelmatus', 'step', 'stepped', 'steps', 'stevens', 'stick', 'sticking', 'sticky', 'still', 'stillagamish', 'sting', 'stinger', 'stingers', 'stinging', 'stings', 'stinks', 'stocky', 'stolen', 'stomach', 'stomped', 'stone', 'stonefly', 'stood', 'stop', 'stopped', 'stopping', 'store', 'story', 'straight', 'strange', 'stratford', 'street', 'streetlamp', 'strikes', 'striking', 'strip', 'stripe', 'striped', 'stripes', 'stripey', 'striping', 'strong', 'struck', 'struggling', 'stuck', 'studied', 'stuffed', 'stump', 'stun', 'stung', 'stunned', 'stunning', 'style', 'submision', 'submission', 'submissions', 'submit', 'submitted', 'submitting', 'substation', 'succulent', 'such', 'sucked', 'sudden', 'suggested', 'summer', 'summit', 'sumner', 'sun', 'sunday', 'sunning', 'sunny', 'sunroom', 'super', 'supersized', 'suppose', 'supposed', 'sur', 'sure', 'surprised', 'surreal', 'surrey', 'surrounded', 'surrounding', 'surveyors', 'susan', 'suspect', 'suspected', 'suzume', 'sw', 'swam', 'swamped', 'swarm', 'swarmed', 'swarming', 'swat', 'swatted', 'swatter', 'sweet', 'swimming', 'swiped', 'swprayed', 'syrphid', 'syrphidae', 'ta', 'table', 'tacoma', 'tail', 'take', 'taken', 'taking', 'talking', 'tall', 'tank', 'tape', 'tapped', 'tar', 'tarantula', 'target', 'targets', 'teacup', 'tel', 'tell', 'temnostoma', 'temperature', 'ten', 'tended', 'tennis', 'tent', 'tentatively', 'tenthredinae', 'tenthredo', 'tenthrinid', 'terminal', 'terminated', 'terrace', 'terrified', 'th', 'thailand', 'than', 'thank', 'thankfully', 'thanks', 'that', 'the', 'their', 'them', 'themselves', 'then', 'thentwo', 'there', 'these', 'theses', 'thetremex', 'they', 'thick', 'thin', 'thing', 'things', 'think', 'thinking', 'thinks', 'third', 'this', 'thistle', 'thorax', 'those', 'thou', 'though', 'thought', 'thread', 'threatened', 'three', 'threw', 'through', 'thumb', 'thumping', 'thumpped', 'thus', 'thy', 'tie', 'til', 'till', 'timber', 'time', 'times', 'tint', 'tiny', 'tip', 'tiphiid', 'tips', 'tire', 'tired', 'to', 'tobe', 'today', 'together', 'told', 'tolt', 'tomato', 'tomatoes', 'tomorrow', 'ton', 'tonight', 'tons', 'too', 'took', 'tool', 'toolbox', 'top', 'torn', 'total', 'totally', 'totten', 'touch', 'tough', 'toutle', 'toward', 'towards', 'townsend', 'toyota', 'tr', 'track', 'tracks', 'tracyton', 'trader', 'trading', 'trail', 'trailer', 'trailers', 'trails', 'trained', 'transfer', 'transit', 'translucent', 'trap', 'trapped', 'traps', 'trash', 'travel', 'traveled', 'traveling', 'travels', 'tray', 'tre', 'treated', 'treatment', 'tree', 'trees', 'tremex', 'tremulix', 'tri', 'triangulum', 'trichiosoma', 'tried', 'trigger', 'trimming', 'trinidad', 'trip', 'trough', 'truck', 'true', 'truly', 'trumpet', 'trunk', 'try', 'trying', 'tub', 'tube', 'tuesday', 'tulalip', 'tunnel', 'tupperware', 'turn', 'turned', 'tussle', 'tv', 'twice', 'twigs', 'twin', 'twitching', 'two', 'tx', 'type', 'types', 'typical', 'typically', 'ugly', 'umatilla', 'umbrella', 'unable', 'uncertain', 'unclear', 'under', 'underground', 'underneath', 'underside', 'understand', 'underwood', 'unfamiliar', 'unfortunate', 'unfortunately', 'unhatched', 'unicorn', 'unidentifiable', 'unidentified', 'uninjured', 'union', 'unique', 'unit', 'university', 'unknown', 'unless', 'unlike', 'unlikely', 'unloading', 'unlucky', 'unphased', 'unsure', 'unti', 'until', 'unusual', 'unusually', 'unverifiable', 'unwrapping', 'up', 'update', 'upload', 'uploaded', 'uploading', 'upon', 'upright', 'upriver', 'upside', 'urocerus', 'us', 'usda', 'use', 'used', 'uses', 'using', 'usual', 'usually', 'utsalady', 'vacuum', 'valleford', 'valley', 'value', 'van', 'vancouver', 'vantage', 'varieties', 'variety', 'varigated', 'various', 'vary', 'varying', 'vashon', 've', 'vegetable', 'vegetables', 'veh', 'vehicle', 'vehicles', 'venomous', 'verified', 'verify', 'verona', 'version', 'very', 'vespula', 'via', 'vibrant', 'vic', 'video', 'videos', 'view', 'viewpoint', 'viking', 'vines', 'visible', 'visit', 'visiting', 'vista', 'vivid', 'vomit', 'vosnesenskii', 'vs', 'wa', 'wack', 'wacked', 'wagon', 'wailing', 'waist', 'waisted', 'wait', 'waited', 'waiting', 'walk', 'walked', 'walking', 'walkway', 'wall', 'walla', 'wallace', 'wallingford', 'walmart', 'walnut', 'want', 'wanted', 'wanting', 'wants', 'warm', 'warning', 'was', 'washed', 'washer', 'washing', 'washington', 'washougal', 'wasn', 'wasp', 'wasps', 'waspssy', 'waste', 'wasted', 'wasting', 'watch', 'watched', 'watching', 'water', 'watered', 'waterfall', 'waterfront', 'watering', 'waters', 'way', 'wd', 'we', 'wear', 'weather', 'web', 'website', 'wedding', 'wednesday', 'wee', 'weed', 'weededbin', 'weeding', 'weeds', 'week', 'weekend', 'weeks', 'weighing', 'weird', 'well', 'wenas', 'wenatchee', 'went', 'wentachee', 'were', 'weren', 'werent', 'west', 'western', 'wet', 'wetlands', 'whacked', 'what', 'whatcom', 'whatever', 'wheel', 'wheelbarrow', 'when', 'where', 'whether', 'which', 'whidbey', 'while', 'white', 'whitehorse', 'who', 'whole', 'whoposed', 'whose', 'why', 'wi', 'wide', 'wider', 'wife', 'wiffle', 'wikipedia', 'wild', 'wildlife', 'wile', 'will', 'willing', 'wind', 'window', 'windows', 'windowsill', 'winds', 'windshield', 'windy', 'wine', 'wing', 'winged', 'wingless', 'wings', 'wingspan', 'winter', 'winthrop', 'wiper', 'wire', 'wisc', 'with', 'within', 'without', 'witnessed', 'woman', 'women', 'wonder', 'wondered', 'wonderful', 'wondering', 'wood', 'wooded', 'wooden', 'woodinville', 'woodpile', 'woods', 'woodwasp', 'word', 'work', 'worker', 'workers', 'working', 'works', 'worksite', 'worried', 'worry', 'worth', 'would', 'wouldn', 'wound', 'wounded', 'wow', 'wrapping', 'writhing', 'wrong', 'wsda', 'wsu', 'wwu', 'ya', 'yakima', 'yard', 'yards', 'yasp', 'yea', 'year', 'years', 'yell', 'yelling', 'yello', 'yellow', 'yellowacket', 'yellowish', 'yellowjack', 'yellowjacket', 'yellowjackets', 'yelm', 'yep', 'yes', 'yesterday', 'yet', 'yikes', 'yogurt', 'you', 'young', 'your', 'yourself', 'yrs', 'yuk', 'zap', 'zapped', 'zip', 'ziploc', 'ziplock', 'zoome', 'zoomed']\n",
      "(3839, 3457)\n"
     ]
    }
   ],
   "source": [
    "# 步骤2：将文档数据转化为TF-IDF向量\n",
    "from sklearn.feature_extraction.text import TfidfVectorizer\n",
    "vectorizer = TfidfVectorizer()\n",
    "X = vectorizer.fit_transform(train_set.data)\n",
    "print(vectorizer.get_feature_names())\n",
    "print(X.shape)"
   ],
   "metadata": {
    "collapsed": false,
    "pycharm": {
     "name": "#%%\n"
    }
   }
  },
  {
   "cell_type": "code",
   "execution_count": 7,
   "outputs": [
    {
     "data": {
      "text/plain": "MultinomialNB()"
     },
     "execution_count": 7,
     "metadata": {},
     "output_type": "execute_result"
    }
   ],
   "source": [
    "# 步骤3：使用多项式分布的朴素贝叶斯算法训练\n",
    "from sklearn.naive_bayes import MultinomialNB\n",
    "clf = MultinomialNB()\n",
    "clf.fit(X, train_set.target)"
   ],
   "metadata": {
    "collapsed": false,
    "pycharm": {
     "name": "#%%\n"
    }
   }
  },
  {
   "cell_type": "code",
   "execution_count": 8,
   "outputs": [
    {
     "data": {
      "text/plain": "'from sklearn.metrics import classification_report\\ntrain_score = clf.score(X, train_set.target)\\nprint(\"train score: {0}\".format(train_score))\\npred = clf.predict(X_val)\\nprint(\"classification report on test set for classifier:\")\\nprint(clf)\\nprint(classification_report(y_val, pred, target_names=[\\'neg\\',\\'pos\\']))'"
     },
     "execution_count": 8,
     "metadata": {},
     "output_type": "execute_result"
    }
   ],
   "source": [
    "# 步骤7：评估算法的预测效果\n",
    "\"\"\"from sklearn.metrics import classification_report\n",
    "train_score = clf.score(X, train_set.target)\n",
    "print(\"train score: {0}\".format(train_score))\n",
    "pred = clf.predict(X_val)\n",
    "print(\"classification report on test set for classifier:\")\n",
    "print(clf)\n",
    "print(classification_report(y_val, pred, target_names=['neg','pos']))\"\"\""
   ],
   "metadata": {
    "collapsed": false,
    "pycharm": {
     "name": "#%%\n"
    }
   }
  },
  {
   "cell_type": "code",
   "execution_count": 9,
   "outputs": [
    {
     "data": {
      "text/plain": "'\\nfrom sklearn.metrics import confusion_matrix\\ncm = confusion_matrix(y_val, pred)\\nprint(\"confusion matrix:\")\\nprint(cm)\\n'"
     },
     "execution_count": 9,
     "metadata": {},
     "output_type": "execute_result"
    }
   ],
   "source": [
    "# 步骤8：生成混淆矩阵\n",
    "\"\"\"\n",
    "from sklearn.metrics import confusion_matrix\n",
    "cm = confusion_matrix(y_val, pred)\n",
    "print(\"confusion matrix:\")\n",
    "print(cm)\n",
    "\"\"\""
   ],
   "metadata": {
    "collapsed": false,
    "pycharm": {
     "name": "#%%\n"
    }
   }
  },
  {
   "cell_type": "code",
   "execution_count": 10,
   "outputs": [
    {
     "name": "stdout",
     "output_type": "stream",
     "text": [
      "n_samples of test_set: 2331\n"
     ]
    }
   ],
   "source": [
    "test_set = load_files(data_folder+'test', shuffle=False)\n",
    "print(\"n_samples of test_set: %d\" % len(test_set.data))"
   ],
   "metadata": {
    "collapsed": false,
    "pycharm": {
     "name": "#%%\n"
    }
   }
  },
  {
   "cell_type": "code",
   "execution_count": 11,
   "outputs": [
    {
     "name": "stdout",
     "output_type": "stream",
     "text": [
      "n_samples: 2331, n_features: 3457\n"
     ]
    }
   ],
   "source": [
    "# 步骤5:把测试数据集向量化\n",
    "X_val = vectorizer.transform(test_set.data)\n",
    "print(\"n_samples: %d, n_features: %d\" % X_val.shape)"
   ],
   "metadata": {
    "collapsed": false,
    "pycharm": {
     "name": "#%%\n"
    }
   }
  },
  {
   "cell_type": "code",
   "execution_count": 12,
   "outputs": [],
   "source": [
    "# 步骤7：评估算法的预测效果\n",
    "pred_proba = clf.predict_proba(X_val)\n",
    "pred = clf.predict(X_val)"
   ],
   "metadata": {
    "collapsed": false,
    "pycharm": {
     "name": "#%%\n"
    }
   }
  },
  {
   "cell_type": "code",
   "execution_count": 25,
   "outputs": [],
   "source": [
    "path = []\n",
    "for p in test_set.filenames:\n",
    "    path.append(os.path.split(p)[1].split('_')[0])\n",
    "pd.DataFrame(pred_proba,index=path,columns=train_set.target_names).to_csv('n&c_result.csv')"
   ],
   "metadata": {
    "collapsed": false,
    "pycharm": {
     "name": "#%%\n"
    }
   }
  }
 ],
 "metadata": {
  "kernelspec": {
   "display_name": "Python 3",
   "language": "python",
   "name": "python3"
  },
  "language_info": {
   "codemirror_mode": {
    "name": "ipython",
    "version": 2
   },
   "file_extension": ".py",
   "mimetype": "text/x-python",
   "name": "python",
   "nbconvert_exporter": "python",
   "pygments_lexer": "ipython2",
   "version": "2.7.6"
  }
 },
 "nbformat": 4,
 "nbformat_minor": 0
}