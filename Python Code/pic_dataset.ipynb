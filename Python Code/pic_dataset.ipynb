{
 "cells": [
  {
   "cell_type": "code",
   "metadata": {
    "collapsed": true,
    "pycharm": {
     "name": "#%%\n"
    }
   },
   "source": [
    "import os\n",
    "import numpy as np\n",
    "from skimage import io,transform,color\n",
    "from tqdm import tqdm\n",
    "\n",
    "WORKSPACE = '/Users/houtonglei/OneDrive - stu.hqu.edu.cn/数学建模/2021美赛/'\n",
    "DATASET_PATH = WORKSPACE + '2021_ICM_ProblemC/pic_dataset/'\n",
    "TRAIN_SET = DATASET_PATH + 'train/'\n",
    "labels = ['neg','pos']\n",
    "neg = []\n",
    "neg_filename = []\n",
    "pos = []\n",
    "pos_filename = []\n",
    "for label in labels:\n",
    "    files = os.listdir(TRAIN_SET + label)\n",
    "    for file in tqdm(files):\n",
    "        try:\n",
    "            im = io.imread(os.path.join(TRAIN_SET, label, file))\n",
    "            if label=='neg':\n",
    "                neg.append(color.rgb2gray(transform.resize(im,(64,64))).flatten())\n",
    "                neg_filename.append(file)\n",
    "            elif label=='pos':\n",
    "                pos.append(color.rgb2gray(transform.resize(im,(64,64))).flatten())\n",
    "                pos_filename.append(file)\n",
    "        except Exception:\n",
    "            pass\n",
    "\n",
    "np.save('pic_data/pos.npy',np.array(pos))\n",
    "np.save('pic_data/neg.npy',np.array(neg))\n",
    "for i,c in enumerate(pos_filename):\n",
    "    pos_filename[i] = dataset_index[dataset_index['FileName']==c]['GlobalID']\n",
    "for i,c in enumerate(neg_filename):\n",
    "    neg_filename[i] = dataset_index[dataset_index['FileName']==c]['GlobalID']\n",
    "np.save('pic_data/pos_filename.npy',np.array(pos_filename))\n",
    "np.save('pic_data/neg_filename.npy',np.array(neg_filename))"
   ],
   "execution_count": null,
   "outputs": []
  },
  {
   "cell_type": "code",
   "execution_count": null,
   "outputs": [],
   "source": [
    "TEST_SET = DATASET_PATH + 'test/'\n",
    "test = []\n",
    "test_filename = []\n",
    "files = os.listdir(TEST_SET)\n",
    "for file in tqdm(files):\n",
    "    try:\n",
    "        im = io.imread(os.path.join(TEST_SET, file))\n",
    "        test.append(color.rgb2gray(transform.resize(im,(64,64))).flatten())\n",
    "        test_filename.append(file)\n",
    "    except Exception:\n",
    "        pass\n",
    "\n",
    "np.save('pic_data/test.npy',np.array(test))\n",
    "for i,c in enumerate(test_filename):\n",
    "    test_filename[i] = dataset_index[dataset_index['FileName']==c]['GlobalID']\n",
    "np.save('pic_data/test_filename.npy',np.array(test_filename))"
   ],
   "metadata": {
    "collapsed": false,
    "pycharm": {
     "name": "#%%\n"
    }
   }
  }
 ],
 "metadata": {
  "kernelspec": {
   "display_name": "Python 3",
   "language": "python",
   "name": "python3"
  },
  "language_info": {
   "codemirror_mode": {
    "name": "ipython",
    "version": 2
   },
   "file_extension": ".py",
   "mimetype": "text/x-python",
   "name": "python",
   "nbconvert_exporter": "python",
   "pygments_lexer": "ipython2",
   "version": "2.7.6"
  }
 },
 "nbformat": 4,
 "nbformat_minor": 0
}