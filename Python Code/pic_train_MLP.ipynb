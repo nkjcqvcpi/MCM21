{
 "cells": [
  {
   "cell_type": "code",
   "execution_count": 27,
   "outputs": [
    {
     "name": "stderr",
     "output_type": "stream",
     "text": [
      "  4%|▍         | 132/3097 [00:06<02:31, 19.61it/s]<ipython-input-27-1b3db2650962>:16: FutureWarning: Non RGB image conversion is now deprecated. For RGBA images, please use rgb2gray(rgba2rgb(rgb)) instead. In version 0.19, a ValueError will be raised if input image last dimension length is not 3.\n",
      "  neg.append(color.rgb2gray(transform.resize(im,(64,64))).flatten())\n",
      " 18%|█▊        | 542/3097 [00:27<02:23, 17.76it/s]/Users/houtonglei/anaconda3/lib/python3.8/site-packages/PIL/TiffImagePlugin.py:770: UserWarning: Possibly corrupt EXIF data.  Expecting to read 496 bytes but only got 0. Skipping tag 0\n",
      "  warnings.warn(\n",
      "/Users/houtonglei/anaconda3/lib/python3.8/site-packages/PIL/TiffImagePlugin.py:770: UserWarning: Possibly corrupt EXIF data.  Expecting to read 240 bytes but only got 0. Skipping tag 0\n",
      "  warnings.warn(\n",
      "/Users/houtonglei/anaconda3/lib/python3.8/site-packages/PIL/TiffImagePlugin.py:770: UserWarning: Possibly corrupt EXIF data.  Expecting to read 393216 bytes but only got 0. Skipping tag 0\n",
      "  warnings.warn(\n",
      " 18%|█▊        | 548/3097 [00:27<02:22, 17.89it/s]/Users/houtonglei/anaconda3/lib/python3.8/site-packages/PIL/TiffImagePlugin.py:770: UserWarning: Possibly corrupt EXIF data.  Expecting to read 320 bytes but only got 0. Skipping tag 0\n",
      "  warnings.warn(\n",
      " 37%|███▋      | 1154/3097 [00:57<01:37, 19.89it/s]/Users/houtonglei/anaconda3/lib/python3.8/site-packages/PIL/TiffImagePlugin.py:770: UserWarning: Possibly corrupt EXIF data.  Expecting to read 512 bytes but only got 0. Skipping tag 0\n",
      "  warnings.warn(\n",
      "/Users/houtonglei/anaconda3/lib/python3.8/site-packages/PIL/TiffImagePlugin.py:770: UserWarning: Possibly corrupt EXIF data.  Expecting to read 384 bytes but only got 0. Skipping tag 0\n",
      "  warnings.warn(\n",
      "100%|██████████| 3097/3097 [02:35<00:00, 19.89it/s]\n",
      " 80%|████████  | 12/15 [00:00<00:00, 16.81it/s]<ipython-input-27-1b3db2650962>:18: FutureWarning: Non RGB image conversion is now deprecated. For RGBA images, please use rgb2gray(rgba2rgb(rgb)) instead. In version 0.19, a ValueError will be raised if input image last dimension length is not 3.\n",
      "  pos.append(color.rgb2gray(transform.resize(im,(64,64))).flatten())\n",
      "100%|██████████| 15/15 [00:00<00:00, 18.84it/s]\n"
     ]
    }
   ],
   "source": [
    "from skimage import io,transform,color\n",
    "import os\n",
    "from tqdm import tqdm\n",
    "\n",
    "DATASET_PATH = '/Users/houtonglei/OneDrive - stu.hqu.edu.cn/数学建模/2021美赛/2021_ICM_ProblemC/pic_dataset/'\n",
    "TRAIN_SET = DATASET_PATH + 'train/'\n",
    "labels = ['neg','pos']\n",
    "neg = []\n",
    "pos = []\n",
    "for label in labels:\n",
    "    files = os.listdir(TRAIN_SET + label)\n",
    "    for file in tqdm(files):\n",
    "        try:\n",
    "            im = io.imread(os.path.join(TRAIN_SET, label, file))\n",
    "            if label=='neg':\n",
    "                neg.append(color.rgb2gray(transform.resize(im,(64,64))).flatten())\n",
    "            elif label=='pos':\n",
    "                pos.append(color.rgb2gray(transform.resize(im,(64,64))).flatten())\n",
    "        except Exception:\n",
    "            pass"
   ],
   "metadata": {
    "collapsed": false,
    "pycharm": {
     "name": "#%%\n"
    }
   }
  },
  {
   "cell_type": "code",
   "execution_count": 28,
   "outputs": [],
   "source": [
    "import sklearn\n",
    "import numpy as np\n",
    "\n",
    "from sklearn.preprocessing import StandardScaler\n",
    "scaler = StandardScaler()\n",
    "\n",
    "dataset = sklearn.utils.Bunch()\n",
    "dataset.data = np.array(pos + neg)\n",
    "dataset.target = np.array([1]*14+[0]*3097)\n",
    "dataset.target_names = ['pos','neg']\n"
   ],
   "metadata": {
    "collapsed": false,
    "pycharm": {
     "name": "#%%\n"
    }
   }
  },
  {
   "cell_type": "code",
   "execution_count": 29,
   "outputs": [
    {
     "data": {
      "text/plain": "0.9948586118251928"
     },
     "execution_count": 29,
     "metadata": {},
     "output_type": "execute_result"
    }
   ],
   "source": [
    "from sklearn.neural_network import MLPClassifier\n",
    "from sklearn.model_selection import train_test_split\n",
    "X_train, X_test, y_train, y_test = train_test_split(dataset.data, dataset.target, stratify=dataset.target,\n",
    "                                                    random_state=1)\n",
    "\n",
    "clf = MLPClassifier(random_state=1, max_iter=300).fit(X_train, y_train)\n",
    "\n",
    "clf.predict_proba(X_test[:1])\n",
    "\n",
    "clf.predict(X_test[:5, :])\n",
    "\n",
    "clf.score(X_test, y_test)"
   ],
   "metadata": {
    "collapsed": false,
    "pycharm": {
     "name": "#%%\n"
    }
   }
  }
 ],
 "metadata": {
  "kernelspec": {
   "name": "pycharm-4ea2e10d",
   "language": "python",
   "display_name": "PyCharm (2021美赛)"
  },
  "language_info": {
   "codemirror_mode": {
    "name": "ipython",
    "version": 2
   },
   "file_extension": ".py",
   "mimetype": "text/x-python",
   "name": "python",
   "nbconvert_exporter": "python",
   "pygments_lexer": "ipython2",
   "version": "2.7.6"
  }
 },
 "nbformat": 4,
 "nbformat_minor": 0
}