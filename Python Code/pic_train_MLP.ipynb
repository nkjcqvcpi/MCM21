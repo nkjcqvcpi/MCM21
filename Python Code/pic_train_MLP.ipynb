{
 "cells": [
  {
   "cell_type": "code",
   "execution_count": 1,
   "outputs": [],
   "source": [
    "import sklearn\n",
    "import numpy as np\n",
    "\n",
    "pos = np.load('pic_data/pos.npy')\n",
    "pos_filename = np.load('pic_data/pos_filename.npy', allow_pickle=True)\n",
    "neg = np.load('pic_data/neg.npy')\n",
    "neg_filename = np.load('pic_data/neg_filename.npy', allow_pickle=True)\n",
    "\n",
    "train_set = sklearn.utils.Bunch()\n",
    "train_set.data = np.concatenate((pos,neg))\n",
    "train_set.target = np.array([1]*len(pos)+[0]*len(neg))\n",
    "train_set.target_names = ['neg', 'pos']\n",
    "train_set.filename = np.concatenate((pos_filename,neg_filename))"
   ],
   "metadata": {
    "collapsed": false,
    "pycharm": {
     "name": "#%%\n"
    }
   }
  },
  {
   "cell_type": "raw",
   "source": [
    "\n",
    "from sklearn.model_selection import train_test_split\n",
    "X_train, X_test, y_train, y_test = train_test_split(\n",
    "    train_set.data, train_set.target, stratify=train_set.target, random_state=1)\n"
   ],
   "metadata": {
    "collapsed": false,
    "pycharm": {
     "name": "#%% raw\n"
    }
   }
  },
  {
   "cell_type": "code",
   "source": [
    "from sklearn.neural_network import MLPClassifier\n",
    "clf = MLPClassifier(random_state=1, max_iter=300).fit(train_set.data, train_set.target)"
   ],
   "metadata": {
    "collapsed": false,
    "pycharm": {
     "name": "#%%\n"
    }
   },
   "execution_count": 2,
   "outputs": []
  },
  {
   "cell_type": "code",
   "source": [
    "import pandas as pd\n",
    "train_proba = clf.predict_proba(train_set.data)\n",
    "pd.DataFrame(train_proba,index=train_set.filename,columns=train_set.target_names).to_csv('result/mlp_embedding.csv', float_format='%.16f')\n",
    "\n",
    "sum_file = pd.read_csv('result/sum_train.csv', index_col=0)\n",
    "for i,p in enumerate(train_set.filename):\n",
    "    sum_file.loc[p,'mlp_pos'] = train_proba[i, 1]\n",
    "sum_file.to_csv('result/sum_train.csv', float_format='%.16f')"
   ],
   "metadata": {
    "collapsed": false,
    "pycharm": {
     "name": "#%%\n"
    }
   },
   "execution_count": 3,
   "outputs": []
  },
  {
   "cell_type": "code",
   "source": [
    "\n",
    "test = np.load('pic_data/test.npy')\n",
    "test_filename = np.load('pic_data/test_filename.npy',allow_pickle=True)\n",
    "test_set = sklearn.utils.Bunch()\n",
    "test_set.data = test\n",
    "test_set.filename = test_filename\n"
   ],
   "metadata": {
    "collapsed": false,
    "pycharm": {
     "name": "#%%\n"
    }
   },
   "execution_count": 4,
   "outputs": []
  },
  {
   "cell_type": "raw",
   "source": [
    "\n",
    "print(clf.score(X_test, y_test))\n"
   ],
   "metadata": {
    "collapsed": false,
    "pycharm": {
     "name": "#%% raw\n"
    }
   }
  },
  {
   "cell_type": "code",
   "source": [
    "\n",
    "import pandas as pd\n",
    "pred_proba = clf.predict_proba(test_set.data)\n",
    "pd.DataFrame(pred_proba,index=test_set.filename).to_csv('result/pic_MLP_result.csv', float_format='%.16f')"
   ],
   "metadata": {
    "collapsed": false,
    "pycharm": {
     "name": "#%%\n"
    }
   },
   "execution_count": 5,
   "outputs": []
  }
 ],
 "metadata": {
  "kernelspec": {
   "name": "pycharm-4ea2e10d",
   "language": "python",
   "display_name": "PyCharm (2021美赛)"
  },
  "language_info": {
   "codemirror_mode": {
    "name": "ipython",
    "version": 2
   },
   "file_extension": ".py",
   "mimetype": "text/x-python",
   "name": "python",
   "nbconvert_exporter": "python",
   "pygments_lexer": "ipython2",
   "version": "2.7.6"
  }
 },
 "nbformat": 4,
 "nbformat_minor": 0
}