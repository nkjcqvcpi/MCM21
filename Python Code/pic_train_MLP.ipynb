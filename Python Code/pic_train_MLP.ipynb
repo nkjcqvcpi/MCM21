{
 "cells": [
  {
   "cell_type": "code",
   "execution_count": 10,
   "outputs": [],
   "source": [
    "import sklearn\n",
    "import numpy as np\n",
    "pos = np.load('pic_data/pos.npy')\n",
    "neg = np.load('pic_data/neg.npy')\n",
    "train_set = sklearn.utils.Bunch()\n",
    "train_set.data = np.concatenate((pos,neg))\n",
    "train_set.target = np.array([1]*len(pos)+[0]*len(neg))\n",
    "train_set.target_names = ['neg''pos']"
   ],
   "metadata": {
    "collapsed": false,
    "pycharm": {
     "name": "#%%\n"
    }
   }
  },
  {
   "cell_type": "code",
   "source": [
    "from sklearn.model_selection import train_test_split\n",
    "X_train, X_test, y_train, y_test = train_test_split(\n",
    "    train_set.data, train_set.target, stratify=train_set.target, random_state=1)"
   ],
   "metadata": {
    "collapsed": false,
    "pycharm": {
     "name": "#%%\n"
    }
   },
   "execution_count": 11,
   "outputs": []
  },
  {
   "cell_type": "code",
   "source": [
    "from sklearn.neural_network import MLPClassifier\n",
    "clf = MLPClassifier(random_state=1, max_iter=300).fit(X_train, y_train)"
   ],
   "metadata": {
    "collapsed": false,
    "pycharm": {
     "name": "#%%\n"
    }
   },
   "execution_count": 12,
   "outputs": []
  },
  {
   "cell_type": "code",
   "execution_count": null,
   "outputs": [],
   "source": [
    "import pandas as pd\n",
    "train_proba = clf.predict_proba(train_set.data)\n",
    "pd.DataFrame(train_proba,index=train_set.filenames,columns=train_set.target_names).to_csv('result/mlp_embedding.csv', float_format='%.16f')"
   ],
   "metadata": {
    "collapsed": false,
    "pycharm": {
     "name": "#%%\n"
    }
   }
  },
  {
   "cell_type": "code",
   "execution_count": 13,
   "outputs": [],
   "source": [
    "test = np.load('pic_data/test.npy')\n",
    "test_filename = np.load('pic_data/test_filename.npy',allow_pickle=True)\n",
    "test_set = sklearn.utils.Bunch()\n",
    "test_set.data = test\n",
    "test_set.filename = test_filename"
   ],
   "metadata": {
    "collapsed": false,
    "pycharm": {
     "name": "#%%\n"
    }
   }
  },
  {
   "cell_type": "raw",
   "source": [
    "\n",
    "print(clf.score(X_test, y_test))\n"
   ],
   "metadata": {
    "collapsed": false,
    "pycharm": {
     "name": "#%% raw\n"
    }
   }
  },
  {
   "cell_type": "code",
   "execution_count": 14,
   "outputs": [],
   "source": [
    "import pandas as pd\n",
    "pred_proba = clf.predict_proba(test_set.data)\n",
    "pd.DataFrame(pred_proba,index=test_set.filename).to_csv('result/pic_MLP_result.csv', float_format='%.16f')"
   ],
   "metadata": {
    "collapsed": false,
    "pycharm": {
     "name": "#%%\n"
    }
   }
  }
 ],
 "metadata": {
  "kernelspec": {
   "name": "pycharm-4ea2e10d",
   "language": "python",
   "display_name": "PyCharm (2021美赛)"
  },
  "language_info": {
   "codemirror_mode": {
    "name": "ipython",
    "version": 2
   },
   "file_extension": ".py",
   "mimetype": "text/x-python",
   "name": "python",
   "nbconvert_exporter": "python",
   "pygments_lexer": "ipython2",
   "version": "2.7.6"
  }
 },
 "nbformat": 4,
 "nbformat_minor": 0
}