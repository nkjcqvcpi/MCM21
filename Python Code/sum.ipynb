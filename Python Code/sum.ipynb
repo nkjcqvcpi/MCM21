{
 "cells": [
  {
   "cell_type": "code",
   "source": [
    "import pandas as pd\n",
    "\n",
    "tl = pd.read_csv('result/t&l_embedding.csv',index_col=0)\n",
    "svm = pd.read_csv('result/svm_embedding.csv',index_col=0)\n",
    "mlp = pd.read_csv('result/mlp_embedding.csv',index_col=0)\n",
    "nc = pd.read_csv('result/n&c_embedding.csv',index_col=0)\n",
    "sum_train = pd.read_csv('result/sum_train.csv',index_col=0)\n",
    "\n",
    "WORKSPACE = '/Users/houtonglei/OneDrive - stu.hqu.edu.cn/数学建模/2021美赛/'\n",
    "DATASET_DESCRIPTION = WORKSPACE + '2021_ICM_ProblemC/2021MCM_ProblemC_DataSet.xlsx'\n",
    "dataset_description = pd.read_excel(DATASET_DESCRIPTION)"
   ],
   "metadata": {
    "collapsed": false,
    "pycharm": {
     "name": "#%%\n"
    }
   },
   "execution_count": 69,
   "outputs": []
  },
  {
   "cell_type": "raw",
   "source": [
    "\n",
    "t = dataset_description[['GlobalID', 'Lab Status']]\n",
    "t.index = t['GlobalID']\n",
    "t.insert(t.shape[1], 'tl_pos', 0)\n",
    "t.insert(t.shape[1], 'svm_pos', 0)\n",
    "t.insert(t.shape[1], 'mlp_pos', 0)\n",
    "t.insert(t.shape[1], 'nc_pos', 0)\n",
    "t = t[['Lab Status', 'tl_pos', 'svm_pos', 'mlp_pos', 'nc_pos']]\n",
    "t = t.replace('Positive ID', 1)\n",
    "t = t.replace('Negative ID', 0)\n",
    "t = t[t['Lab Status'].isin([0, 1])]\n",
    "t.to_csv('result/sum_train.csv')\n",
    "\n"
   ],
   "metadata": {
    "collapsed": false,
    "pycharm": {
     "name": "#%% raw\n"
    }
   }
  },
  {
   "cell_type": "code",
   "execution_count": 73,
   "outputs": [
    {
     "data": {
      "text/plain": "0.9995196926032661"
     },
     "execution_count": 73,
     "metadata": {},
     "output_type": "execute_result"
    }
   ],
   "source": [
    "import numpy as np\n",
    "X = sum_train[['tl_pos', 'svm_pos', 'mlp_pos', 'nc_pos']]\n",
    "Y = sum_train['Lab Status']\n",
    "from sklearn.linear_model import SGDClassifier\n",
    "from sklearn.preprocessing import StandardScaler\n",
    "from sklearn.pipeline import make_pipeline\n",
    "# Always scale the input. The most convenient way is to use a pipeline.\n",
    "clf = make_pipeline(StandardScaler(),\n",
    "                    SGDClassifier(max_iter=1000, tol=1e-3,loss='modified_huber'))\n",
    "clf.fit(X, Y)\n",
    "\n",
    "temp = clf.predict_proba(X)\n",
    "clf.score(X,Y)\n"
   ],
   "metadata": {
    "collapsed": false,
    "pycharm": {
     "name": "#%%\n"
    }
   }
  }
 ],
 "metadata": {
  "kernelspec": {
   "display_name": "Python 3",
   "language": "python",
   "name": "python3"
  },
  "language_info": {
   "codemirror_mode": {
    "name": "ipython",
    "version": 2
   },
   "file_extension": ".py",
   "mimetype": "text/x-python",
   "name": "python",
   "nbconvert_exporter": "python",
   "pygments_lexer": "ipython2",
   "version": "2.7.6"
  }
 },
 "nbformat": 4,
 "nbformat_minor": 0
}