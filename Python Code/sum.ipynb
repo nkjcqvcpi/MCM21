{
 "cells": [
  {
   "cell_type": "code",
   "execution_count": 23,
   "metadata": {
    "collapsed": true
   },
   "outputs": [],
   "source": [
    "import pandas as pd\n",
    "\n",
    "tl = pd.read_csv('t&l_result.csv',index_col=0)\n",
    "nc = pd.read_csv('n&c_result.csv',index_col=0)"
   ]
  },
  {
   "cell_type": "code",
   "execution_count": 29,
   "outputs": [],
   "source": [
    "tlno0 = tl[tl['pos']>0.00675]\n",
    "ncno0 = nc[nc['pos']>0.001]\n",
    "\n",
    "final = []\n",
    "\n",
    "for i in tlno0.index:\n",
    "    if i in ncno0.index:\n",
    "        final.append(i)\n",
    "\n",
    "WORKSPACE = '/Users/houtonglei/OneDrive - stu.hqu.edu.cn/数学建模/2021美赛/'\n",
    "DATASET_DESCRIPTION = WORKSPACE + '2021_ICM_ProblemC/2021MCM_ProblemC_DataSet.xlsx'\n",
    "dataset_description = pd.read_excel(DATASET_DESCRIPTION)\n",
    "\n",
    "output=[]\n",
    "for i in final:\n",
    "    output.append(dataset_description[dataset_description['GlobalID']==i])\n",
    "\n",
    "pd.concat(output).to_excel('output.xlsx')\n"
   ],
   "metadata": {
    "collapsed": false,
    "pycharm": {
     "name": "#%%\n"
    }
   }
  }
 ],
 "metadata": {
  "kernelspec": {
   "display_name": "Python 3",
   "language": "python",
   "name": "python3"
  },
  "language_info": {
   "codemirror_mode": {
    "name": "ipython",
    "version": 2
   },
   "file_extension": ".py",
   "mimetype": "text/x-python",
   "name": "python",
   "nbconvert_exporter": "python",
   "pygments_lexer": "ipython2",
   "version": "2.7.6"
  }
 },
 "nbformat": 4,
 "nbformat_minor": 0
}