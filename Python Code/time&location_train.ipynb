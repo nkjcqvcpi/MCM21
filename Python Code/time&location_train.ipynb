{
 "cells": [
  {
   "cell_type": "code",
   "execution_count": 69,
   "outputs": [],
   "source": [
    "import pandas as pd\n",
    "WORKSPACE = '/Users/houtonglei/OneDrive - stu.hqu.edu.cn/数学建模/2021美赛/'\n",
    "DATASET_DESCRIPTION = WORKSPACE + '2021_ICM_ProblemC/2021MCM_ProblemC_DataSet.xlsx'\n",
    "\n",
    "dataset_description = pd.read_excel(DATASET_DESCRIPTION)\n",
    "dataset_description['Detection Date'] = dataset_description['Detection Date'].apply(lambda x:x.value/(10**9*3600*24))"
   ],
   "metadata": {
    "collapsed": false,
    "pycharm": {
     "name": "#%%\n"
    }
   }
  },
  {
   "cell_type": "code",
   "execution_count": 70,
   "outputs": [],
   "source": [
    "import sklearn\n",
    "import numpy as np\n",
    "dataset_description = dataset_description.replace('Positive ID', 1)\n",
    "dataset_description = dataset_description.replace('Negative ID', 0)\n",
    "train_set = dataset_description[dataset_description['Lab Status'].isin([0, 1])]\n",
    "train_dataset = sklearn.utils.Bunch()\n",
    "train_dataset.data = train_set[['Detection Date', 'Latitude', 'Longitude']]\n",
    "train_dataset.target = train_set['Lab Status']\n",
    "train_dataset.target_names = ['neg', 'pos']\n",
    "train_dataset.filenames = train_set['GlobalID']"
   ],
   "metadata": {
    "collapsed": false,
    "pycharm": {
     "name": "#%%\n"
    }
   }
  },
  {
   "cell_type": "code",
   "execution_count": 71,
   "outputs": [],
   "source": [
    "from sklearn.preprocessing import StandardScaler\n",
    "std = StandardScaler()\n",
    "x_train = std.fit_transform(train_dataset.data)\n",
    "y_train = train_dataset.target.astype(np.int8)"
   ],
   "metadata": {
    "collapsed": false,
    "pycharm": {
     "name": "#%%\n"
    }
   }
  },
  {
   "cell_type": "code",
   "execution_count": 72,
   "outputs": [
    {
     "data": {
      "text/plain": "'from sklearn.model_selection import train_test_split\\nx_train, x_val, y_train, y_val = train_test_split(train_dataset.data, train_dataset.target, test_size=0.25)\\nx_train = std.fit_transform(x_train)\\ny_train = y_train.astype(np.int8)\\nx_val = std.transform(x_val)\\ny_val = y_val.astype(np.int8)'"
     },
     "execution_count": 72,
     "metadata": {},
     "output_type": "execute_result"
    }
   ],
   "source": [
    "\"\"\"from sklearn.model_selection import train_test_split\n",
    "x_train, x_val, y_train, y_val = train_test_split(train_dataset.data, train_dataset.target, test_size=0.25)\n",
    "x_train = std.fit_transform(x_train)\n",
    "y_train = y_train.astype(np.int8)\n",
    "x_val = std.transform(x_val)\n",
    "y_val = y_val.astype(np.int8)\"\"\""
   ],
   "metadata": {
    "collapsed": false,
    "pycharm": {
     "name": "#%%\n"
    }
   }
  },
  {
   "cell_type": "code",
   "execution_count": 73,
   "outputs": [
    {
     "data": {
      "text/plain": "LogisticRegressionCV()"
     },
     "execution_count": 73,
     "metadata": {},
     "output_type": "execute_result"
    }
   ],
   "source": [
    "from sklearn.linear_model import LogisticRegressionCV\n",
    "clf = LogisticRegressionCV()\n",
    "clf.fit(x_train, y_train)"
   ],
   "metadata": {
    "collapsed": false,
    "pycharm": {
     "name": "#%%\n"
    }
   }
  },
  {
   "cell_type": "code",
   "execution_count": 74,
   "outputs": [
    {
     "data": {
      "text/plain": "'print(clf.score(x_val, y_val))\\nprint(clf.coef_)'"
     },
     "execution_count": 74,
     "metadata": {},
     "output_type": "execute_result"
    }
   ],
   "source": [
    "\"\"\"print(clf.score(x_val, y_val))\n",
    "print(clf.coef_)\"\"\""
   ],
   "metadata": {
    "collapsed": false,
    "pycharm": {
     "name": "#%%\n"
    }
   }
  },
  {
   "cell_type": "code",
   "execution_count": null,
   "outputs": [],
   "source": [
    "train_proba = clf.predict_proba(train_dataset.data)\n",
    "pd.DataFrame(train_proba,index=train_dataset.filenames.tolist(),columns=train_dataset.target_names).to_csv('result/t&l_embedding.csv', float_format='%.16f')"
   ],
   "metadata": {
    "collapsed": false,
    "pycharm": {
     "name": "#%%\n"
    }
   }
  },
  {
   "cell_type": "code",
   "execution_count": 75,
   "outputs": [],
   "source": [
    "test_set = dataset_description[dataset_description['Lab Status'].isin(['Unverified','Unprocessed'])]\n",
    "test_dataset = sklearn.utils.Bunch()\n",
    "test_dataset.data = test_set[['Detection Date', 'Latitude', 'Longitude']]\n",
    "test_dataset.target = test_set['Lab Status']\n",
    "test_dataset.target_names = ['Unknown']\n",
    "test_dataset.filenames = test_set['GlobalID']\n",
    "\n",
    "test_dataset.data = std.transform(test_dataset.data)"
   ],
   "metadata": {
    "collapsed": false,
    "pycharm": {
     "name": "#%%\n"
    }
   }
  },
  {
   "cell_type": "code",
   "execution_count": 76,
   "outputs": [],
   "source": [
    "pred_proba = clf.predict_proba(test_dataset.data)\n",
    "pd.DataFrame(pred_proba,index=test_dataset.filenames.tolist(),columns=train_dataset.target_names).to_csv('result/t&l_result.csv', float_format='%.16f')\n"
   ],
   "metadata": {
    "collapsed": false,
    "pycharm": {
     "name": "#%%\n"
    }
   }
  }
 ],
 "metadata": {
  "kernelspec": {
   "display_name": "Python 3",
   "language": "python",
   "name": "python3"
  },
  "language_info": {
   "codemirror_mode": {
    "name": "ipython",
    "version": 2
   },
   "file_extension": ".py",
   "mimetype": "text/x-python",
   "name": "python",
   "nbconvert_exporter": "python",
   "pygments_lexer": "ipython2",
   "version": "2.7.6"
  }
 },
 "nbformat": 4,
 "nbformat_minor": 0
}