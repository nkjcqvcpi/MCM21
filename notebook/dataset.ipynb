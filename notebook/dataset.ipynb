{
 "cells": [
  {
   "cell_type": "code",
   "execution_count": null,
   "outputs": [],
   "source": [
    "import pandas as pd\n",
    "import shutil\n",
    "import os"
   ],
   "metadata": {
    "collapsed": false,
    "pycharm": {
     "name": "#%%\n"
    }
   }
  },
  {
   "cell_type": "code",
   "execution_count": null,
   "outputs": [],
   "source": [
    "WORKSPACE = '/Users/houtonglei/OneDrive - stu.hqu.edu.cn/数学建模/2021美赛/'\n",
    "DATASET_PATH = WORKSPACE + '2021_ICM_ProblemC/2021MCM_ProblemC_Files'\n",
    "PRETREATMENT_DATASET = WORKSPACE + '2021_ICM_ProblemC/dataset'\n",
    "DATASET_INDEX = WORKSPACE + '2021_ICM_ProblemC/2021MCM_ProblemC_Images_by_GlobalID.xlsx'\n",
    "DATASET_DESCRIPTION = WORKSPACE + '2021_ICM_ProblemC/2021MCM_ProblemC_DataSet.xlsx'"
   ],
   "metadata": {
    "collapsed": false,
    "pycharm": {
     "name": "#%%\n"
    }
   }
  },
  {
   "cell_type": "code",
   "execution_count": null,
   "outputs": [],
   "source": [
    "dataset_index = pd.read_excel(DATASET_INDEX)\n",
    "dataset_description = pd.read_excel(DATASET_DESCRIPTION)\n",
    "dataset = pd.merge(dataset_index, dataset_description, how='left', on='GlobalID')"
   ],
   "metadata": {
    "collapsed": false,
    "pycharm": {
     "name": "#%%\n"
    }
   }
  },
  {
   "cell_type": "code",
   "execution_count": null,
   "outputs": [],
   "source": [
    "pic_dataset = dataset[(dataset['FileType']=='image/jpg')|(dataset['FileType']=='image/png')|(dataset['FileType']=='image/jfif')]\n",
    "vid_dataset = dataset[(dataset['FileType']=='video/quicktime')|(dataset['FileType']=='video/mp4')]\n",
    "oct_dataset = dataset[dataset['FileType']=='application/octet-stream']\n",
    "pdf_dataset = dataset[dataset['FileType']=='application/pdf']\n",
    "zip_dataset = dataset[dataset['FileType']=='application/x-zip-compressed']\n",
    "doc_dataset = dataset[dataset['FileType']=='application/vnd.openxmlformats-officedocument.wordprocessingml.document']"
   ],
   "metadata": {
    "collapsed": false,
    "pycharm": {
     "name": "#%%\n"
    }
   }
  },
  {
   "cell_type": "code",
   "execution_count": null,
   "outputs": [],
   "source": [
    "for _, file in dataset.iterrows():\n",
    "    file_path = DATASET_PATH+os.sep+file['FileName']\n",
    "    if file['Lab Status']=='Positive ID':\n",
    "        shutil.copy(file_path, PRETREATMENT_DATASET+os.sep+'positive_id'+os.sep+file['FileName'])\n",
    "    elif file['Lab Status']=='Negative ID':\n",
    "        shutil.copy(file_path, PRETREATMENT_DATASET+os.sep+'negative_id'+os.sep+file['FileName'])\n",
    "    elif file['Lab Status']=='Unverified':\n",
    "        shutil.copy(file_path, PRETREATMENT_DATASET+os.sep+'unverified'+os.sep+file['FileName'])\n",
    "    elif file['Lab Status']=='Unprocessed':\n",
    "        shutil.copy(file_path, PRETREATMENT_DATASET+os.sep+'unprocessed'+os.sep+file['FileName'])\n",
    "\n",
    "\n"
   ],
   "metadata": {
    "collapsed": false,
    "pycharm": {
     "name": "#%%\n"
    }
   }
  }
 ],
 "metadata": {
  "kernelspec": {
   "name": "pycharm-4ea2e10d",
   "language": "python",
   "display_name": "PyCharm (2021美赛)"
  },
  "language_info": {
   "codemirror_mode": {
    "name": "ipython",
    "version": 2
   },
   "file_extension": ".py",
   "mimetype": "text/x-python",
   "name": "python",
   "nbconvert_exporter": "python",
   "pygments_lexer": "ipython2",
   "version": "2.7.6"
  }
 },
 "nbformat": 4,
 "nbformat_minor": 0
}