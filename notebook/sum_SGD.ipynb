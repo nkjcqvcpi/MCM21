{
 "cells": [
  {
   "cell_type": "code",
   "source": [
    "import pandas as pd\n",
    "\n",
    "sum_train = pd.read_csv('result/sum_train.csv',index_col=0)\n",
    "\n",
    "WORKSPACE = '/Users/houtonglei/OneDrive - stu.hqu.edu.cn/数学建模/2021美赛/'\n",
    "DATASET_DESCRIPTION = WORKSPACE + '2021_ICM_ProblemC/2021MCM_ProblemC_DataSet.xlsx'\n",
    "dataset_description = pd.read_excel(DATASET_DESCRIPTION)"
   ],
   "metadata": {
    "collapsed": false,
    "pycharm": {
     "name": "#%%\n"
    }
   },
   "execution_count": 7,
   "outputs": []
  },
  {
   "cell_type": "raw",
   "source": [
    "\n",
    "t = dataset_description[['GlobalID', 'Lab Status']]\n",
    "t.index = t['GlobalID']\n",
    "t.insert(t.shape[1], 'tl_pos', 0)\n",
    "t.insert(t.shape[1], 'svm_pos', 0)\n",
    "t.insert(t.shape[1], 'mlp_pos', 0)\n",
    "t.insert(t.shape[1], 'nc_pos', 0)\n",
    "t = t[['Lab Status', 'tl_pos', 'svm_pos', 'mlp_pos', 'nc_pos']]\n",
    "t = t.replace('Positive ID', 1)\n",
    "t = t.replace('Negative ID', 0)\n",
    "t = t[t['Lab Status'].isin([0, 1])]\n",
    "t.to_csv('result/sum_train.csv')\n",
    "\n"
   ],
   "metadata": {
    "collapsed": false,
    "pycharm": {
     "name": "#%% raw\n"
    }
   }
  },
  {
   "cell_type": "raw",
   "source": [
    "\n",
    "import numpy as np\n",
    "X = sum_train[['tl_pos', 'svm_pos', 'mlp_pos', 'nc_pos']]\n",
    "Y = sum_train['Lab Status']\n",
    "from sklearn.linear_model import SGDClassifier\n",
    "from sklearn.preprocessing import StandardScaler\n",
    "from sklearn.pipeline import make_pipeline\n",
    "# Always scale the input. The most convenient way is to use a pipeline.\n",
    "clf = make_pipeline(StandardScaler(),\n",
    "                    SGDClassifier(max_iter=1000, tol=1e-3,loss='modified_huber',shuffle=True))\n",
    "clf.fit(X, Y)\n",
    "\n",
    "temp = clf.predict_proba(X)\n",
    "clf.score(X,Y)\n",
    "\n"
   ],
   "metadata": {
    "collapsed": false,
    "pycharm": {
     "name": "#%% raw\n"
    }
   }
  },
  {
   "cell_type": "code",
   "execution_count": 9,
   "outputs": [],
   "source": [
    "top = pd.read_excel('result/top28.xlsx')\n",
    "dataset_description[dataset_description['GlobalID'].isin(top['GlobalID'])].to_excel('top28.xlsx')\n",
    "\n"
   ],
   "metadata": {
    "collapsed": false,
    "pycharm": {
     "name": "#%%\n"
    }
   }
  }
 ],
 "metadata": {
  "kernelspec": {
   "display_name": "Python 3",
   "language": "python",
   "name": "python3"
  },
  "language_info": {
   "codemirror_mode": {
    "name": "ipython",
    "version": 2
   },
   "file_extension": ".py",
   "mimetype": "text/x-python",
   "name": "python",
   "nbconvert_exporter": "python",
   "pygments_lexer": "ipython2",
   "version": "2.7.6"
  }
 },
 "nbformat": 4,
 "nbformat_minor": 0
}