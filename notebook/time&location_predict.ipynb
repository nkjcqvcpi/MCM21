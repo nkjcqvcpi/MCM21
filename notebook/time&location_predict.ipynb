{
 "cells": [
  {
   "cell_type": "code",
   "execution_count": 86,
   "outputs": [
    {
     "name": "stderr",
     "output_type": "stream",
     "text": [
      "/Users/houtonglei/anaconda3/lib/python3.8/site-packages/pandas/core/indexing.py:670: SettingWithCopyWarning: \n",
      "A value is trying to be set on a copy of a slice from a DataFrame\n",
      "\n",
      "See the caveats in the documentation: https://pandas.pydata.org/pandas-docs/stable/user_guide/indexing.html#returning-a-view-versus-a-copy\n",
      "  iloc._setitem_with_indexer(indexer, value)\n",
      "<ipython-input-86-7b1bc970a4fe>:9: SettingWithCopyWarning: \n",
      "A value is trying to be set on a copy of a slice from a DataFrame\n",
      "\n",
      "See the caveats in the documentation: https://pandas.pydata.org/pandas-docs/stable/user_guide/indexing.html#returning-a-view-versus-a-copy\n",
      "  dataset_description['Detection Date'][i] = n.value/(10**9*3600*24)\n"
     ]
    }
   ],
   "source": [
    "import pandas as pd\n",
    "WORKSPACE = '/Users/houtonglei/OneDrive - stu.hqu.edu.cn/数学建模/2021美赛/'\n",
    "DATASET_DESCRIPTION = WORKSPACE + '2021_ICM_ProblemC/2021MCM_ProblemC_DataSet.xlsx'\n",
    "dataset_description = pd.read_excel(DATASET_DESCRIPTION)\n",
    "\n",
    "dataset_description = dataset_description[['GlobalID', 'Detection Date', 'Lab Status', 'Latitude', 'Longitude']]\n",
    "dataset_description['Detection Date'].apply(lambda x:pd.to_datetime(x))\n",
    "for i,n in enumerate(dataset_description['Detection Date']):\n",
    "    dataset_description['Detection Date'][i] = n.value/(10**9*3600*24)\n",
    "pos = dataset_description[(dataset_description['Lab Status'] == 'Positive ID')][['Detection Date', 'Latitude', 'Longitude']]\n",
    "neg = dataset_description[(dataset_description['Lab Status'] == 'Negative ID')][['Detection Date', 'Latitude', 'Longitude']]\n",
    "unv = dataset_description[(dataset_description['Lab Status'] == 'Unverified')][['Detection Date', 'Latitude', 'Longitude']]\n",
    "unp = dataset_description[(dataset_description['Lab Status'] == 'Unprocessed')][['Detection Date', 'Latitude', 'Longitude']]"
   ],
   "metadata": {
    "collapsed": false,
    "pycharm": {
     "name": "#%%\n"
    }
   }
  },
  {
   "cell_type": "code",
   "execution_count": 90,
   "metadata": {
    "collapsed": true,
    "pycharm": {
     "name": "#%%\n"
    }
   },
   "outputs": [
    {
     "name": "stdout",
     "output_type": "stream",
     "text": [
      "SpectralBiclustering(n_clusters=2, random_state=0)\n"
     ]
    }
   ],
   "source": [
    "from sklearn.cluster import SpectralBiclustering\n",
    "clustering = SpectralBiclustering(n_clusters=2, random_state=0)\n",
    "clustering.fit(pos, 1)\n",
    "clustering.fit(neg, -1)\n",
    "print(clustering)"
   ]
  },
  {
   "cell_type": "code",
   "execution_count": null,
   "outputs": [],
   "source": [
    "from sklearn.cluster import Birch\n",
    "brc = Birch(n_clusters=None)\n",
    "brc.fit(pos,1)\n",
    "posc = brc.subcluster_centers_\n",
    "brc.partial_fit(neg,-1)\n",
    "negc = brc.subcluster_centers_\n",
    "p = brc.fit_predict(unp)\n",
    "v = brc.fit_predict(unv)\n",
    "unc = brc.subcluster_centers_\n",
    "print(brc.subcluster_centers_)\n"
   ],
   "metadata": {
    "collapsed": false,
    "pycharm": {
     "name": "#%%\n"
    }
   }
  }
 ],
 "metadata": {
  "kernelspec": {
   "display_name": "Python 3",
   "language": "python",
   "name": "python3"
  },
  "language_info": {
   "codemirror_mode": {
    "name": "ipython",
    "version": 2
   },
   "file_extension": ".py",
   "mimetype": "text/x-python",
   "name": "python",
   "nbconvert_exporter": "python",
   "pygments_lexer": "ipython2",
   "version": "2.7.6"
  }
 },
 "nbformat": 4,
 "nbformat_minor": 0
}